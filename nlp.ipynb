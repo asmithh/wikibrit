{
 "cells": [
  {
   "cell_type": "code",
   "execution_count": 2,
   "id": "angry-intensity",
   "metadata": {},
   "outputs": [],
   "source": [
    "import pickle\n",
    "\n",
    "c0 = pickle.load(open('rev_metadata_mar_10_to_june_1.pkl', 'rb')) \n",
    "c1 = pickle.load(open('rev_metadata.pkl', 'rb'))\n",
    "c2 = pickle.load(open('rev_metadata_since_june_first.pkl', 'rb'))\n",
    "c = sorted(c0 + c1 + c2, key=lambda b: b['timestamp'])\n",
    "content = [cc['text'] + ' ' + cc['comment'] for cc in c if cc['text'] ]\n",
    "dts = [i['timestamp'] for i in c]"
   ]
  },
  {
   "cell_type": "code",
   "execution_count": 3,
   "id": "limited-presence",
   "metadata": {},
   "outputs": [],
   "source": [
    "from sklearn.feature_extraction.text import CountVectorizer\n",
    "import re\n",
    "# sub(pattern, repl, string\n",
    "content_no_npov = [re.sub('npov', ' ', cc.lower()) for cc in content]\n",
    "vectorizer = CountVectorizer(strip_accents='ascii', max_df=0.85, min_df=5, ngram_range=(1, 1))\n",
    "X = vectorizer.fit_transform(content_no_npov)\n"
   ]
  },
  {
   "cell_type": "code",
   "execution_count": 4,
   "id": "divided-worse",
   "metadata": {},
   "outputs": [
    {
     "name": "stderr",
     "output_type": "stream",
     "text": [
      "/usr/local/lib/python3.9/site-packages/sklearn/linear_model/_logistic.py:763: ConvergenceWarning: lbfgs failed to converge (status=1):\n",
      "STOP: TOTAL NO. of ITERATIONS REACHED LIMIT.\n",
      "\n",
      "Increase the number of iterations (max_iter) or scale the data as shown in:\n",
      "    https://scikit-learn.org/stable/modules/preprocessing.html\n",
      "Please also refer to the documentation for alternative solver options:\n",
      "    https://scikit-learn.org/stable/modules/linear_model.html#logistic-regression\n",
      "  n_iter_i = _check_optimize_result(\n"
     ]
    },
    {
     "data": {
      "text/plain": [
       "0.9975408261287224"
      ]
     },
     "execution_count": 4,
     "metadata": {},
     "output_type": "execute_result"
    }
   ],
   "source": [
    "ys = ['npov' in c.lower() for c in content]\n",
    "xs = X.toarray()\n",
    "\n",
    "# from sklearn.naive_bayes import MultinomialNB\n",
    "# clf = MultinomialNB(alpha=0.5)\n",
    "from sklearn.linear_model import LogisticRegression\n",
    "clf = LogisticRegression(random_state=0)\n",
    "clf.fit(xs, ys)\n",
    "clf.score(xs, ys)"
   ]
  },
  {
   "cell_type": "code",
   "execution_count": 6,
   "id": "senior-principal",
   "metadata": {},
   "outputs": [
    {
     "ename": "AttributeError",
     "evalue": "'LogisticRegression' object has no attribute 'feature_log_prob_'",
     "output_type": "error",
     "traceback": [
      "\u001b[0;31m---------------------------------------------------------------------------\u001b[0m",
      "\u001b[0;31mAttributeError\u001b[0m                            Traceback (most recent call last)",
      "\u001b[0;32m<ipython-input-6-b717291f6fba>\u001b[0m in \u001b[0;36m<module>\u001b[0;34m\u001b[0m\n\u001b[1;32m      1\u001b[0m \u001b[0;32mimport\u001b[0m \u001b[0mnumpy\u001b[0m \u001b[0;32mas\u001b[0m \u001b[0mnp\u001b[0m\u001b[0;34m\u001b[0m\u001b[0;34m\u001b[0m\u001b[0m\n\u001b[1;32m      2\u001b[0m \u001b[0mfeature_names\u001b[0m \u001b[0;34m=\u001b[0m \u001b[0mvectorizer\u001b[0m\u001b[0;34m.\u001b[0m\u001b[0mget_feature_names\u001b[0m\u001b[0;34m(\u001b[0m\u001b[0;34m)\u001b[0m\u001b[0;34m\u001b[0m\u001b[0;34m\u001b[0m\u001b[0m\n\u001b[0;32m----> 3\u001b[0;31m \u001b[0mzipped\u001b[0m \u001b[0;34m=\u001b[0m \u001b[0mlist\u001b[0m\u001b[0;34m(\u001b[0m\u001b[0mzip\u001b[0m\u001b[0;34m(\u001b[0m\u001b[0mfeature_names\u001b[0m\u001b[0;34m,\u001b[0m \u001b[0mclf\u001b[0m\u001b[0;34m.\u001b[0m\u001b[0mfeature_log_prob_\u001b[0m\u001b[0;34m[\u001b[0m\u001b[0;36m0\u001b[0m\u001b[0;34m]\u001b[0m\u001b[0;34m,\u001b[0m \u001b[0mclf\u001b[0m\u001b[0;34m.\u001b[0m\u001b[0mfeature_log_prob_\u001b[0m\u001b[0;34m[\u001b[0m\u001b[0;36m1\u001b[0m\u001b[0;34m]\u001b[0m\u001b[0;34m)\u001b[0m\u001b[0;34m)\u001b[0m\u001b[0;34m\u001b[0m\u001b[0;34m\u001b[0m\u001b[0m\n\u001b[0m\u001b[1;32m      4\u001b[0m \u001b[0;32mfor\u001b[0m \u001b[0mf\u001b[0m\u001b[0;34m,\u001b[0m \u001b[0mp0\u001b[0m\u001b[0;34m,\u001b[0m \u001b[0mp1\u001b[0m \u001b[0;32min\u001b[0m \u001b[0mzipped\u001b[0m\u001b[0;34m:\u001b[0m\u001b[0;34m\u001b[0m\u001b[0;34m\u001b[0m\u001b[0m\n\u001b[1;32m      5\u001b[0m     \u001b[0;32mif\u001b[0m \u001b[0mp0\u001b[0m \u001b[0;34m/\u001b[0m \u001b[0mp1\u001b[0m \u001b[0;34m>\u001b[0m \u001b[0;36m1.4\u001b[0m\u001b[0;34m:\u001b[0m\u001b[0;34m\u001b[0m\u001b[0;34m\u001b[0m\u001b[0m\n",
      "\u001b[0;31mAttributeError\u001b[0m: 'LogisticRegression' object has no attribute 'feature_log_prob_'"
     ]
    }
   ],
   "source": [
    "import numpy as np\n",
    "feature_names = vectorizer.get_feature_names()\n",
    "zipped = list(zip(feature_names, clf.feature_log_prob_[0], clf.feature_log_prob_[1]))\n",
    "for f, p0, p1 in zipped:\n",
    "    if p0 / p1 > 1.4:\n",
    "        print(f, p0, p1)"
   ]
  },
  {
   "cell_type": "code",
   "execution_count": 8,
   "id": "balanced-range",
   "metadata": {},
   "outputs": [
    {
     "data": {
      "text/plain": [
       "189"
      ]
     },
     "execution_count": 8,
     "metadata": {},
     "output_type": "execute_result"
    }
   ],
   "source": [
    "np.sum(ys)"
   ]
  },
  {
   "cell_type": "code",
   "execution_count": null,
   "id": "perceived-edition",
   "metadata": {},
   "outputs": [],
   "source": []
  },
  {
   "cell_type": "code",
   "execution_count": null,
   "id": "sexual-moses",
   "metadata": {},
   "outputs": [],
   "source": []
  }
 ],
 "metadata": {
  "kernelspec": {
   "display_name": "Python 3",
   "language": "python",
   "name": "python3"
  },
  "language_info": {
   "codemirror_mode": {
    "name": "ipython",
    "version": 3
   },
   "file_extension": ".py",
   "mimetype": "text/x-python",
   "name": "python",
   "nbconvert_exporter": "python",
   "pygments_lexer": "ipython3",
   "version": "3.9.1"
  }
 },
 "nbformat": 4,
 "nbformat_minor": 5
}
