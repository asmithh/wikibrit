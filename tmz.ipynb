{
 "cells": [
  {
   "cell_type": "code",
   "execution_count": 118,
   "id": "manufactured-aging",
   "metadata": {},
   "outputs": [
    {
     "name": "stdout",
     "output_type": "stream",
     "text": [
      "12\n",
      "https://www.tmz.com/2021/06/22/britney-spears-dancing-conservatorship-hearing-perform-again/\n",
      "24\n",
      "https://www.tmz.com/2021/06/22/britney-spears-dancing-conservatorship-hearing-perform-again/\n",
      "36\n",
      "https://www.tmz.com/2021/03/30/britney-spears-creepy-skull-baby-instagram-photo-red-posts/\n"
     ]
    },
    {
     "ename": "KeyboardInterrupt",
     "evalue": "",
     "output_type": "error",
     "traceback": [
      "\u001b[0;31m---------------------------------------------------------------------------\u001b[0m",
      "\u001b[0;31mKeyboardInterrupt\u001b[0m                         Traceback (most recent call last)",
      "\u001b[0;32m<ipython-input-118-0ef39e12387f>\u001b[0m in \u001b[0;36m<module>\u001b[0;34m\u001b[0m\n\u001b[1;32m     19\u001b[0m \u001b[0;34m\u001b[0m\u001b[0m\n\u001b[1;32m     20\u001b[0m \u001b[0;32mfor\u001b[0m \u001b[0mi\u001b[0m \u001b[0;32min\u001b[0m \u001b[0mrange\u001b[0m\u001b[0;34m(\u001b[0m\u001b[0;36m0\u001b[0m\u001b[0;34m,\u001b[0m \u001b[0;36m50\u001b[0m\u001b[0;34m)\u001b[0m\u001b[0;34m:\u001b[0m\u001b[0;34m\u001b[0m\u001b[0;34m\u001b[0m\u001b[0m\n\u001b[0;32m---> 21\u001b[0;31m     \u001b[0mtime\u001b[0m\u001b[0;34m.\u001b[0m\u001b[0msleep\u001b[0m\u001b[0;34m(\u001b[0m\u001b[0mrandom\u001b[0m\u001b[0;34m.\u001b[0m\u001b[0mrandint\u001b[0m\u001b[0;34m(\u001b[0m\u001b[0;36m1\u001b[0m\u001b[0;34m,\u001b[0m \u001b[0;36m20\u001b[0m\u001b[0;34m)\u001b[0m\u001b[0;34m)\u001b[0m\u001b[0;34m\u001b[0m\u001b[0;34m\u001b[0m\u001b[0m\n\u001b[0m\u001b[1;32m     22\u001b[0m     \u001b[0;32mif\u001b[0m \u001b[0mrandom\u001b[0m\u001b[0;34m.\u001b[0m\u001b[0mrandint\u001b[0m\u001b[0;34m(\u001b[0m\u001b[0;36m0\u001b[0m\u001b[0;34m,\u001b[0m \u001b[0;36m1000\u001b[0m\u001b[0;34m)\u001b[0m \u001b[0;34m%\u001b[0m \u001b[0;36m5\u001b[0m \u001b[0;34m==\u001b[0m \u001b[0;36m0\u001b[0m\u001b[0;34m:\u001b[0m\u001b[0;34m\u001b[0m\u001b[0;34m\u001b[0m\u001b[0m\n\u001b[1;32m     23\u001b[0m         \u001b[0mbrowser\u001b[0m \u001b[0;34m=\u001b[0m \u001b[0mmechanize\u001b[0m\u001b[0;34m.\u001b[0m\u001b[0mBrowser\u001b[0m\u001b[0;34m(\u001b[0m\u001b[0;34m)\u001b[0m\u001b[0;34m\u001b[0m\u001b[0;34m\u001b[0m\u001b[0m\n",
      "\u001b[0;31mKeyboardInterrupt\u001b[0m: "
     ]
    }
   ],
   "source": [
    "import mechanize\n",
    "from bs4 import BeautifulSoup\n",
    "\n",
    "\n",
    "def get_to_scrape(browser, url):\n",
    "    pg = browser.open(url)\n",
    "    soup = BeautifulSoup(pg,'html.parser')\n",
    "    to_scrape = []\n",
    "    for i in soup.find_all('a'):\n",
    "        if 'britney' in i.text.lower():\n",
    "            to_scrape.append(i.get('href'))\n",
    "    return to_scrape\n",
    "\n",
    "to_scrape_all = []\n",
    "browser = mechanize.Browser()\n",
    "base_url = 'https://www.tmz.com/people/britney-spears/'\n",
    "extension = '?page={}'\n",
    "# to_scrape_all = get_to_scrape(browser, base_url)\n",
    "\n",
    "for i in range(0, 50):\n",
    "    time.sleep(random.randint(1, 20))\n",
    "    if random.randint(0, 1000) % 5 == 0:\n",
    "        browser = mechanize.Browser()\n",
    "    to_scrape_all.extend(\n",
    "        get_to_scrape(\n",
    "            browser, base_url + extension.format(str(i))\n",
    "        )\n",
    "    )\n",
    "    print(len(to_scrape_all))\n",
    "    print(to_scrape_all[-1])"
   ]
  },
  {
   "cell_type": "code",
   "execution_count": 119,
   "id": "grand-silence",
   "metadata": {},
   "outputs": [],
   "source": [
    "import pickle\n",
    "pickle.dump(to_scrape_all, open('tmz_june_27_and_earlier_til_march_30.pkl', 'wb'))"
   ]
  },
  {
   "cell_type": "code",
   "execution_count": 115,
   "id": "enhanced-translator",
   "metadata": {},
   "outputs": [],
   "source": [
    "import pickle\n",
    "pickle.dump(to_scrape_all, open('tmz_urls_pg_100_thru_482.pkl', 'wb'))\n",
    "def get_to_scrape(browser, url):\n",
    "    pg = browser.open(url)\n",
    "    soup = BeautifulSoup(pg,'html.parser')\n",
    "    to_scrape = []\n",
    "    for i in soup.find_all('a'):\n",
    "        if 'britney' in i.text.lower():\n",
    "            to_scrape.append(i.get('href'))\n",
    "    return to_scrape\n",
    "\n",
    "import time\n",
    "import mechanize\n",
    "from bs4 import BeautifulSoup\n",
    "\n",
    "def scrape_individual_article(url):\n",
    "    time.sleep(random.randint(1, 20))\n",
    "    browser = mechanize.Browser()\n",
    "    pg = browser.open(url)\n",
    "    soup = BeautifulSoup(pg, 'html.parser')\n",
    "    txt_full = soup.text\n",
    "    patt = '[0-9]+\\/[0-9]+\\/[0-9]{4} [0-9]+\\:[0-9]+ [A-Z]+M [A-Z]+T'\n",
    "    txt = re.split(patt, txt_full)[1].split('Related Articles')[0]\n",
    "    filed = re.findall(patt, txt_full)[0]\n",
    "    txt = re.sub('\\n', '', txt)\n",
    "    return txt, filed"
   ]
  },
  {
   "cell_type": "code",
   "execution_count": 89,
   "id": "coated-niger",
   "metadata": {},
   "outputs": [],
   "source": [
    "import newspaper\n",
    "# source = newspaper.Source('https://www.usmagazine.com/celebrities/britney-spears/')\n",
    "# source.download()\n",
    "\n",
    "britney_tmz = newspaper.build('https://www.tmz.com/people/britney-spears/', user_agent='Chrome')"
   ]
  },
  {
   "cell_type": "code",
   "execution_count": 94,
   "id": "intermediate-information",
   "metadata": {},
   "outputs": [
    {
     "ename": "AttributeError",
     "evalue": "'bytes' object has no attribute 'links'",
     "output_type": "error",
     "traceback": [
      "\u001b[0;31m---------------------------------------------------------------------------\u001b[0m",
      "\u001b[0;31mAttributeError\u001b[0m                            Traceback (most recent call last)",
      "\u001b[0;32m<ipython-input-94-300ec90042c3>\u001b[0m in \u001b[0;36m<module>\u001b[0;34m\u001b[0m\n\u001b[0;32m----> 1\u001b[0;31m \u001b[0mpg\u001b[0m\u001b[0;34m.\u001b[0m\u001b[0mread\u001b[0m\u001b[0;34m(\u001b[0m\u001b[0;34m)\u001b[0m\u001b[0;34m.\u001b[0m\u001b[0mlinks\u001b[0m\u001b[0;34m(\u001b[0m\u001b[0;34m)\u001b[0m\u001b[0;34m\u001b[0m\u001b[0;34m\u001b[0m\u001b[0m\n\u001b[0m",
      "\u001b[0;31mAttributeError\u001b[0m: 'bytes' object has no attribute 'links'"
     ]
    }
   ],
   "source": [
    "pg.read()"
   ]
  },
  {
   "cell_type": "code",
   "execution_count": 94,
   "id": "proved-specific",
   "metadata": {},
   "outputs": [
    {
     "ename": "AttributeError",
     "evalue": "'bytes' object has no attribute 'links'",
     "output_type": "error",
     "traceback": [
      "\u001b[0;31m---------------------------------------------------------------------------\u001b[0m",
      "\u001b[0;31mAttributeError\u001b[0m                            Traceback (most recent call last)",
      "\u001b[0;32m<ipython-input-94-300ec90042c3>\u001b[0m in \u001b[0;36m<module>\u001b[0;34m\u001b[0m\n\u001b[0;32m----> 1\u001b[0;31m \u001b[0mpg\u001b[0m\u001b[0;34m.\u001b[0m\u001b[0mread\u001b[0m\u001b[0;34m(\u001b[0m\u001b[0;34m)\u001b[0m\u001b[0;34m.\u001b[0m\u001b[0mlinks\u001b[0m\u001b[0;34m(\u001b[0m\u001b[0;34m)\u001b[0m\u001b[0;34m\u001b[0m\u001b[0;34m\u001b[0m\u001b[0m\n\u001b[0m",
      "\u001b[0;31mAttributeError\u001b[0m: 'bytes' object has no attribute 'links'"
     ]
    }
   ],
   "source": [
    "pg.read()"
   ]
  },
  {
   "cell_type": "code",
   "execution_count": 94,
   "id": "average-great",
   "metadata": {},
   "outputs": [
    {
     "ename": "AttributeError",
     "evalue": "'bytes' object has no attribute 'links'",
     "output_type": "error",
     "traceback": [
      "\u001b[0;31m---------------------------------------------------------------------------\u001b[0m",
      "\u001b[0;31mAttributeError\u001b[0m                            Traceback (most recent call last)",
      "\u001b[0;32m<ipython-input-94-300ec90042c3>\u001b[0m in \u001b[0;36m<module>\u001b[0;34m\u001b[0m\n\u001b[0;32m----> 1\u001b[0;31m \u001b[0mpg\u001b[0m\u001b[0;34m.\u001b[0m\u001b[0mread\u001b[0m\u001b[0;34m(\u001b[0m\u001b[0;34m)\u001b[0m\u001b[0;34m.\u001b[0m\u001b[0mlinks\u001b[0m\u001b[0;34m(\u001b[0m\u001b[0;34m)\u001b[0m\u001b[0;34m\u001b[0m\u001b[0;34m\u001b[0m\u001b[0m\n\u001b[0m",
      "\u001b[0;31mAttributeError\u001b[0m: 'bytes' object has no attribute 'links'"
     ]
    }
   ],
   "source": [
    "pg.read()"
   ]
  },
  {
   "cell_type": "code",
   "execution_count": 90,
   "id": "utility-shannon",
   "metadata": {},
   "outputs": [
    {
     "data": {
      "text/plain": [
       "[]"
      ]
     },
     "execution_count": 90,
     "metadata": {},
     "output_type": "execute_result"
    }
   ],
   "source": [
    "[a.url for a in britney_tmz.articles]"
   ]
  },
  {
   "cell_type": "code",
   "execution_count": 81,
   "id": "micro-union",
   "metadata": {},
   "outputs": [
    {
     "name": "stdout",
     "output_type": "stream",
     "text": [
      "\n"
     ]
    },
    {
     "ename": "KeyboardInterrupt",
     "evalue": "",
     "output_type": "error",
     "traceback": [
      "\u001b[0;31m---------------------------------------------------------------------------\u001b[0m",
      "\u001b[0;31mKeyboardInterrupt\u001b[0m                         Traceback (most recent call last)",
      "\u001b[0;32m<ipython-input-81-49fe6565017d>\u001b[0m in \u001b[0;36m<module>\u001b[0;34m\u001b[0m\n\u001b[1;32m      3\u001b[0m \u001b[0;32mimport\u001b[0m \u001b[0mrandom\u001b[0m\u001b[0;34m\u001b[0m\u001b[0;34m\u001b[0m\u001b[0m\n\u001b[1;32m      4\u001b[0m \u001b[0;32mfor\u001b[0m \u001b[0marticle\u001b[0m \u001b[0;32min\u001b[0m \u001b[0mbritney_us_weekly\u001b[0m\u001b[0;34m.\u001b[0m\u001b[0marticles\u001b[0m\u001b[0;34m:\u001b[0m\u001b[0;34m\u001b[0m\u001b[0;34m\u001b[0m\u001b[0m\n\u001b[0;32m----> 5\u001b[0;31m     \u001b[0mtime\u001b[0m\u001b[0;34m.\u001b[0m\u001b[0msleep\u001b[0m\u001b[0;34m(\u001b[0m\u001b[0mrandom\u001b[0m\u001b[0;34m.\u001b[0m\u001b[0mrandint\u001b[0m\u001b[0;34m(\u001b[0m\u001b[0;36m1\u001b[0m\u001b[0;34m,\u001b[0m \u001b[0;36m20\u001b[0m\u001b[0;34m)\u001b[0m\u001b[0;34m)\u001b[0m\u001b[0;34m\u001b[0m\u001b[0;34m\u001b[0m\u001b[0m\n\u001b[0m\u001b[1;32m      6\u001b[0m     \u001b[0marticle\u001b[0m \u001b[0;34m=\u001b[0m \u001b[0mnewspaper\u001b[0m\u001b[0;34m.\u001b[0m\u001b[0mArticle\u001b[0m\u001b[0;34m(\u001b[0m\u001b[0marticle\u001b[0m\u001b[0;34m.\u001b[0m\u001b[0murl\u001b[0m\u001b[0;34m)\u001b[0m\u001b[0;34m\u001b[0m\u001b[0;34m\u001b[0m\u001b[0m\n\u001b[1;32m      7\u001b[0m     \u001b[0;32mif\u001b[0m \u001b[0;34m'britney'\u001b[0m \u001b[0;32min\u001b[0m \u001b[0marticle\u001b[0m\u001b[0;34m.\u001b[0m\u001b[0murl\u001b[0m\u001b[0;34m.\u001b[0m\u001b[0mlower\u001b[0m\u001b[0;34m(\u001b[0m\u001b[0;34m)\u001b[0m\u001b[0;34m:\u001b[0m\u001b[0;34m\u001b[0m\u001b[0;34m\u001b[0m\u001b[0m\n",
      "\u001b[0;31mKeyboardInterrupt\u001b[0m: "
     ]
    }
   ],
   "source": [
    "tmz_articles = []\n",
    "import time\n",
    "import random\n",
    "for article in britney_us_weekly.articles:\n",
    "    time.sleep(random.randint(1, 20))\n",
    "    article = newspaper.Article(article.url)\n",
    "    if 'britney' in article.url.lower():\n",
    "        print(article.publish_date)\n",
    "        article.download()\n",
    "        tmz_articles.append((article.authors, article.publish_date, article.text))\n"
   ]
  },
  {
   "cell_type": "code",
   "execution_count": 76,
   "id": "spread-schedule",
   "metadata": {},
   "outputs": [
    {
     "data": {
      "text/plain": [
       "[([], '', ''),\n",
       " ([], '', ''),\n",
       " ([], '', ''),\n",
       " ([], '', ''),\n",
       " ([], '', ''),\n",
       " ([], '', ''),\n",
       " ([], '', ''),\n",
       " ([], '', ''),\n",
       " ([], '', ''),\n",
       " ([], '', ''),\n",
       " ([], '', ''),\n",
       " ([], '', '')]"
      ]
     },
     "execution_count": 76,
     "metadata": {},
     "output_type": "execute_result"
    }
   ],
   "source": [
    "tmz_articles"
   ]
  },
  {
   "cell_type": "code",
   "execution_count": 66,
   "id": "threaded-activation",
   "metadata": {},
   "outputs": [],
   "source": [
    "tmz = newspaper.Source('https://www.tmz.com/people/britney-spears/')\n",
    "tmz.download()\n",
    "tmz.parse()\n",
    "tmz.generate_articles()"
   ]
  },
  {
   "cell_type": "code",
   "execution_count": 67,
   "id": "visible-leeds",
   "metadata": {},
   "outputs": [
    {
     "data": {
      "text/plain": [
       "[]"
      ]
     },
     "execution_count": 67,
     "metadata": {},
     "output_type": "execute_result"
    }
   ],
   "source": [
    "tmz.articles"
   ]
  },
  {
   "cell_type": "code",
   "execution_count": null,
   "id": "registered-campaign",
   "metadata": {},
   "outputs": [],
   "source": []
  }
 ],
 "metadata": {
  "kernelspec": {
   "display_name": "Python 3",
   "language": "python",
   "name": "python3"
  },
  "language_info": {
   "codemirror_mode": {
    "name": "ipython",
    "version": 3
   },
   "file_extension": ".py",
   "mimetype": "text/x-python",
   "name": "python",
   "nbconvert_exporter": "python",
   "pygments_lexer": "ipython3",
   "version": "3.9.1"
  }
 },
 "nbformat": 4,
 "nbformat_minor": 5
}
