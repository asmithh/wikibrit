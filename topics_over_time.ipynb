{
 "cells": [
  {
   "cell_type": "code",
   "execution_count": 26,
   "id": "86001ad8",
   "metadata": {},
   "outputs": [],
   "source": [
    "import os\n",
    "import pickle\n",
    "\n",
    "prefix = './article_pickles/'\n",
    "content = [pickle.load(open(prefix + fname, 'rb')) for fname in sorted(os.listdir(prefix))]\n",
    "content = [[w for w in doc if len(w) < 20] for doc in content]"
   ]
  },
  {
   "cell_type": "code",
   "execution_count": 27,
   "id": "d6501974",
   "metadata": {},
   "outputs": [],
   "source": [
    "import pandas as pd\n",
    "def to_seconds_from_epoch(fname):\n",
    "    return (pd.to_datetime(fname.split('_')[0]) - pd.Timestamp(\"1970-01-01\", tz='UTC')) // pd.Timedelta('1s')\n",
    "timestamps = [to_seconds_from_epoch(fname) for fname in sorted(os.listdir(prefix))]"
   ]
  },
  {
   "cell_type": "code",
   "execution_count": 36,
   "id": "a4432136",
   "metadata": {},
   "outputs": [],
   "source": [
    "import importlib\n",
    "import topics_over_time\n",
    "from topics_over_time.tot import TopicsOverTime"
   ]
  },
  {
   "cell_type": "code",
   "execution_count": 37,
   "id": "38361243",
   "metadata": {},
   "outputs": [],
   "source": [
    "tot = topics_over_time.tot.TopicsOverTime()\n",
    "vocab = set()\n",
    "for doc in content:\n",
    "    for word in doc:\n",
    "        if word not in vocab:\n",
    "            vocab.add(word)\n",
    "timestamp_range = timestamps[-1] - timestamps[0]\n",
    "timestamps_scaled = [(t - timestamps[0]) / timestamp_range for t in timestamps]\n",
    "vocab = list(vocab)"
   ]
  },
  {
   "cell_type": "code",
   "execution_count": 51,
   "id": "5d42705a",
   "metadata": {},
   "outputs": [],
   "source": [
    "import scipy\n",
    "import random\n",
    "import numpy as np\n",
    "\n",
    "par = {}\t\t\t\t\t\t# dictionary of all parameters\n",
    "par['max_iterations'] = 100\t\t# max number of iterations in gibbs sampling\n",
    "par['T'] = 20\t\t\t\t\t# number of topics\n",
    "par['D'] = len(content)\n",
    "par['V'] = len(vocab)\n",
    "par['N'] = [len(doc) for doc in content]\n",
    "par['alpha'] = [50.0/par['T'] for _ in range(par['T'])]\n",
    "par['beta'] = [0.1 for _ in range(par['V'])]\n",
    "par['beta_sum'] = sum(par['beta'])\n",
    "par['psi'] = [[1 for _ in range(2)] for _ in range(par['T'])]\n",
    "par['betafunc_psi'] = [scipy.special.beta( par['psi'][t][0], par['psi'][t][1] ) for t in range(par['T'])]\n",
    "par['word_id'] = {word: idx for idx, word in enumerate(vocab)}\n",
    "par['word_token'] = vocab\n",
    "par['z'] = [np.random.randint(0, par['T'], par['N'][d]) for d in range(par['D'])]\n",
    "par['t'] = [timestamps[d] * np.ones(par['N'][d]) for d in range(par['D'])]\n",
    "par['w'] = [[par['word_id'][content[d][i]] for i in range(par['N'][d])] for d in range(par['D'])]\n",
    "par['m'] = [np.zeros(par['T']) for d in range(par['D'])]\n",
    "par['n'] = [np.zeros(par['V']) for t in range(par['T'])]\n",
    "par['n_sum'] = np.zeros(par['T'])\n",
    "np.set_printoptions(threshold=np.inf)\n",
    "np.seterr(divide='ignore', invalid='ignore')\n",
    "tot.CalculateCounts(par)\n"
   ]
  },
  {
   "cell_type": "code",
   "execution_count": null,
   "id": "a6d534c8",
   "metadata": {},
   "outputs": [
    {
     "name": "stdout",
     "output_type": "stream",
     "text": [
      "Done with iteration 0 and document 0\n",
      "Done with iteration 0 and document 1000\n",
      "Done with iteration 0 and document 2000\n",
      "Done with iteration 0 and document 3000\n",
      "Done with iteration 0 and document 4000\n",
      "Done with iteration 0 and document 5000\n",
      "Done with iteration 0 and document 6000\n"
     ]
    }
   ],
   "source": [
    "theta, phi, psi = tot.TopicsOverTimeGibbsSampling(par)\n"
   ]
  },
  {
   "cell_type": "code",
   "execution_count": null,
   "id": "57074b26",
   "metadata": {},
   "outputs": [],
   "source": [
    "import pickle\n",
    "pickle.dump((theta, phi, psi), open('theta_phi_psi_run_1.pkl', 'wb'))"
   ]
  },
  {
   "cell_type": "code",
   "execution_count": 53,
   "id": "9145518a",
   "metadata": {},
   "outputs": [
    {
     "data": {
      "text/plain": [
       "array([3., 3., 3., 3., 3.])"
      ]
     },
     "execution_count": 53,
     "metadata": {},
     "output_type": "execute_result"
    }
   ],
   "source": [
    "3 * np.ones(5)"
   ]
  },
  {
   "cell_type": "code",
   "execution_count": 54,
   "id": "9d7fc28b",
   "metadata": {},
   "outputs": [],
   "source": [
    "a = [timestamps[d] * np.ones(par['N'][d]) for d in range(par['D'])]\n",
    "b = [[timestamps[d] for _ in range(par['N'][d])] for d in range(par['D'])]"
   ]
  },
  {
   "cell_type": "code",
   "execution_count": 55,
   "id": "268ead92",
   "metadata": {},
   "outputs": [
    {
     "data": {
      "text/plain": [
       "25860"
      ]
     },
     "execution_count": 55,
     "metadata": {},
     "output_type": "execute_result"
    }
   ],
   "source": [
    "len(a)"
   ]
  },
  {
   "cell_type": "code",
   "execution_count": 66,
   "id": "d57dc7ec",
   "metadata": {},
   "outputs": [
    {
     "data": {
      "text/plain": [
       "True"
      ]
     },
     "execution_count": 66,
     "metadata": {},
     "output_type": "execute_result"
    }
   ],
   "source": [
    "len(a[0])== len(b[0])"
   ]
  },
  {
   "cell_type": "code",
   "execution_count": 63,
   "id": "acfba3d1",
   "metadata": {},
   "outputs": [
    {
     "name": "stderr",
     "output_type": "stream",
     "text": [
      "/usr/local/lib/python3.7/site-packages/ipykernel_launcher.py:1: VisibleDeprecationWarning: Creating an ndarray from ragged nested sequences (which is a list-or-tuple of lists-or-tuples-or ndarrays with different lengths or shapes) is deprecated. If you meant to do this, you must specify 'dtype=object' when creating the ndarray\n",
      "  \"\"\"Entry point for launching an IPython kernel.\n",
      "/usr/local/lib/python3.7/site-packages/ipykernel_launcher.py:1: DeprecationWarning: elementwise comparison failed; this will raise an error in the future.\n",
      "  \"\"\"Entry point for launching an IPython kernel.\n"
     ]
    },
    {
     "data": {
      "text/plain": [
       "False"
      ]
     },
     "execution_count": 63,
     "metadata": {},
     "output_type": "execute_result"
    }
   ],
   "source": []
  },
  {
   "cell_type": "code",
   "execution_count": 68,
   "id": "e5d423e6",
   "metadata": {},
   "outputs": [
    {
     "data": {
      "text/plain": [
       "array([[2.5, 4.5],\n",
       "       [6.5, 8.5]])"
      ]
     },
     "execution_count": 68,
     "metadata": {},
     "output_type": "execute_result"
    }
   ],
   "source": [
    "a = np.array([[1, 2], [3, 4]])\n",
    "b = np.array([[1.5, 2.5], [3.5, 4.5]])\n",
    "\n",
    "np.sum([a, b], axis=0)"
   ]
  },
  {
   "cell_type": "code",
   "execution_count": 132,
   "id": "2c008413",
   "metadata": {},
   "outputs": [
    {
     "data": {
      "image/png": "[encoded data removed]",
      "text/plain": [
       "<Figure size 432x288 with 1 Axes>"
      ]
     },
     "metadata": {
      "needs_background": "light"
     },
     "output_type": "display_data"
    }
   ],
   "source": [
    "import pickle\n",
    "import matplotlib.pyplot as plt\n",
    "import math\n",
    "p = pickle.load(open('tot_run_wiki/tot_dump_70.pkl', 'rb'))\n",
    "psi = p['psi']\n",
    "\n",
    "xs = np.linspace(0, 1, num=1000)\n",
    "fig, ax = plt.subplots()\n",
    "\n",
    "for i in range(len(psi)):\n",
    "    ys = [math.pow(1-x, psi[i][0]-1) * math.pow(x, psi[i][1]-1) / scipy.special.beta(psi[i][0],psi[i][1]) for x in xs]\n",
    "    ax.plot(xs, ys, label='Topic ' + str(i+1))\n",
    "plt.show()"
   ]
  },
  {
   "cell_type": "code",
   "execution_count": 133,
   "id": "a79ec370",
   "metadata": {},
   "outputs": [
    {
     "name": "stdout",
     "output_type": "stream",
     "text": [
      "['director', 'lady', 'accessdatedecember', 'thing', 'listed', 'inspiration', 'guide', 'announces', 'residency', 'psychiatric', 'wearing', 'nbspmillion', 'charity', 'authorassociated', 'datejanuary', 'accessdatejanuary', 'tattoo', 'titleoops', 'workbillboard', 'titlespears', 'sound', 'trawick', 'postscriptnoneref', 'actorsspears', 'workrolling', 'european', 'timerefcite', 'cancer', 'charge', 'observer', 'publishermtv', 'authoreditors', 'publisherbbc', 'awardsrefcite', 'great', 'conservatorship', 'accessdateapril', 'datejune', 'titlein', 'publisherrolling', 'visitation', 'brand', 'bgcolorcccccc', 'restraining', 'decade', 'dateaugust', 'singersspears', 'revival', 'positive', 'workthe', 'followed', 'gimme', 'dateseptember', 'mdash', 'datenovember', 'coauthor', 'datedecember', 'circus', 'formatogg', 'foundation', 'yearfebruary', 'teenage', 'datemay', 'influence', 'blackout', 'albumblackout', 'dateoctober', 'authorstephen', 'yearnovember', 'spearsnbsp', 'femme', 'fatale', 'rowspan', 'company', 'multilisten', 'staff', 'factor', 'namefoxnews', 'publishermtvcom', 'allmusic', 'retrieved', 'accessdatemarch', 'accessdateaugust', 'accessdateoctober', 'accessdateseptember', 'aligncenter', 'accessdatefebruary', 'accessdatemay', 'ndash', 'father', 'yearseptember', 'sample', 'husband', 'authorpeople', 'publisherpeoplecom', 'guinness', 'datefebruary', 'judge', 'language', 'accessdatejune']\n",
      "['hospitalized', 'wearing', 'networksref', 'inspiration', 'workrolling', 'director', 'brand', 'european', 'deadurlyes', 'titleoops', 'cancer', 'authoreditors', 'conservatorship', 'restraining', 'titlespears', 'guide', 'daily', 'listed', 'singersspears', 'bgcolorcccccc', 'observer', 'behind', 'dateaugust', 'titlein', 'datejune', 'revival', 'authorassociated', 'charity', 'great', 'publisherrolling', 'workbillboard', 'lady', 'awardsrefcite', 'positive', 'allmusic', 'datemay', 'followed', 'ndash', 'teenage', 'actorsspears', 'language', 'publisherpeoplecom', 'authorpeople', 'judge', 'residency', 'sample', 'yearseptember', 'tattoo', 'yearfebruary', 'publishermtv', 'datedecember', 'foundation', 'namefoxnews', 'datenovember', 'postscriptnoneref', 'dateoctober', 'father', 'trawick', 'psychiatric', 'retrieved', 'albumblackout', 'publishermtvcom', 'authorstephen', 'influence', 'gimme', 'circus', 'mdash', 'accessdatejune', 'husband', 'multilisten', 'guinness', 'accessdatemarch', 'accessdateaugust', 'nbspmillion', 'accessdateapril', 'accessdateoctober', 'timerefcite', 'rowspan', 'accessdateseptember', 'yearnovember', 'visitation', 'charge', 'accessdatefebruary', 'formatogg', 'accessdatemay', 'blackout', 'workthe', 'coauthor', 'aligncenter', 'accessdatejanuary', 'staff', 'datefebruary', 'company', 'dateseptember', 'fatale', 'factor', 'femme', 'spearsnbsp', 'decade', 'sound']\n",
      "['cancer', 'thing', 'conservatorship', 'brand', 'european', 'daily', 'announces', 'inspiration', 'publisherbbc', 'datejanuary', 'authoreditors', 'workrolling', 'listed', 'great', 'singersspears', 'wall', 'wearing', 'bgcolorcccccc', 'dateaugust', 'behind', 'charity', 'revival', 'observer', 'awardsrefcite', 'titlespears', 'authorassociated', 'accessdateapril', 'workbillboard', 'positive', 'lady', 'titlein', 'publisherrolling', 'datejune', 'restraining', 'guide', 'tattoo', 'timerefcite', 'postscriptnoneref', 'husband', 'judge', 'residency', 'accessdatefebruary', 'charge', 'decade', 'language', 'nbspmillion', 'accessdatejanuary', 'retrieved', 'workthe', 'psychiatric', 'company', 'allmusic', 'trawick', 'spearsnbsp', 'actorsspears', 'albumblackout', 'followed', 'sound', 'publishermtv', 'yearfebruary', 'visitation', 'accessdateseptember', 'coauthor', 'authorstephen', 'accessdatemarch', 'ndash', 'datemay', 'gimme', 'datedecember', 'guinness', 'formatogg', 'factor', 'datefebruary', 'foundation', 'yearseptember', 'publishermtvcom', 'father', 'authorpeople', 'staff', 'circus', 'aligncenter', 'datenovember', 'influence', 'yearnovember', 'teenage', 'accessdateaugust', 'fatale', 'blackout', 'accessdatejune', 'mdash', 'accessdateoctober', 'sample', 'multilisten', 'accessdatemay', 'rowspan', 'namefoxnews', 'dateseptember', 'publisherpeoplecom', 'dateoctober', 'femme']\n",
      "['titlecrossroads', 'datejanuary', 'daily', 'announces', 'workrolling', 'publisherrolling', 'workbillboard', 'titleoops', 'workthe', 'guide', 'decade', 'accessdatejanuary', 'formatogg', 'residency', 'dateaugust', 'singersspears', 'observer', 'yearfebruary', 'guinness', 'accessdatefebruary', 'spearsnbsp', 'inspiration', 'postscriptnoneref', 'husband', 'psychiatric', 'authoreditors', 'visitation', 'allmusic', 'bgcolorcccccc', 'titlein', 'timerefcite', 'company', 'director', 'followed', 'publisherbbc', 'language', 'trawick', 'titlespears', 'datefebruary', 'tattoo', 'revival', 'accessdateapril', 'restraining', 'conservatorship', 'charge', 'behind', 'listed', 'awardsrefcite', 'authorassociated', 'positive', 'great', 'european', 'nbspmillion', 'charity', 'brand', 'sound', 'datejune', 'actorsspears', 'wearing', 'networksref', 'albumblackout', 'judge', 'father', 'retrieved', 'influence', 'blackout', 'publishermtv', 'dateoctober', 'teenage', 'datedecember', 'datenovember', 'coauthor', 'factor', 'accessdatemarch', 'accessdateaugust', 'accessdateoctober', 'sample', 'accessdateseptember', 'ndash', 'dateseptember', 'mdash', 'accessdatemay', 'publisherpeoplecom', 'datemay', 'staff', 'authorpeople', 'foundation', 'authorstephen', 'gimme', 'namefoxnews', 'yearnovember', 'accessdatejune', 'yearseptember', 'rowspan', 'multilisten', 'femme', 'aligncenter', 'publishermtvcom', 'fatale', 'circus']\n",
      "['daily', 'restraining', 'announces', 'datejanuary', 'charity', 'thing', 'publisherbbc', 'cancer', 'observer', 'guide', 'authoreditors', 'european', 'workrolling', 'lady', 'conservatorship', 'bgcolorcccccc', 'authorassociated', 'titlein', 'awardsrefcite', 'director', 'behind', 'titlespears', 'brand', 'titleoops', 'timerefcite', 'wearing', 'datejune', 'great', 'listed', 'dateaugust', 'publisherrolling', 'positive', 'workbillboard', 'singersspears', 'sound', 'accessdatejanuary', 'yearfebruary', 'albumblackout', 'psychiatric', 'datefebruary', 'trawick', 'postscriptnoneref', 'allmusic', 'visitation', 'company', 'decade', 'followed', 'nbspmillion', 'husband', 'revival', 'workthe', 'judge', 'charge', 'spearsnbsp', 'accessdateapril', 'tattoo', 'accessdateseptember', 'datedecember', 'residency', 'actorsspears', 'publishermtv', 'father', 'guinness', 'language', 'accessdatefebruary', 'mdash', 'influence', 'publisherpeoplecom', 'accessdatejune', 'authorpeople', 'fatale', 'femme', 'yearseptember', 'retrieved', 'publishermtvcom', 'multilisten', 'dateoctober', 'staff', 'namefoxnews', 'yearnovember', 'authorstephen', 'formatogg', 'factor', 'ndash', 'aligncenter', 'sample', 'datemay', 'foundation', 'coauthor', 'accessdatemarch', 'accessdateaugust', 'teenage', 'circus', 'gimme', 'accessdateoctober', 'dateseptember', 'accessdatemay', 'datenovember', 'blackout', 'rowspan']\n",
      "['thing', 'inspiration', 'great', 'datejanuary', 'daily', 'refref', 'listed', 'alone', 'charge', 'postscriptnoneref', 'bgcolorcccccc', 'awardsrefcite', 'datejune', 'director', 'wearing', 'visitation', 'sexualized', 'cited', 'dateaugust', 'timerefcite', 'accessdatenovember', 'revival', 'behind', 'publishermtv', 'cancer', 'albumblackout', 'lady', 'singersspears', 'yearfebruary', 'brand', 'psychiatric', 'retrieved', 'language', 'allmusic', 'coauthor', 'followed', 'european', 'positive', 'inspired', 'workrolling', 'charity', 'formatogg', 'honored', 'announces', 'yearseptember', 'publishermtvcom', 'residency', 'father', 'tattoo', 'sound', 'blackout', 'circus', 'dateoctober', 'authorpeople', 'publisherpeoplecom', 'foundation', 'mdash', 'spearsnbsp', 'influence', 'multilisten', 'rowspan', 'femme', 'fatale', 'actorsspears', 'datefebruary', 'nbspmillion', 'teenage', 'ndash', 'datedecember', 'datenovember', 'yearnovember', 'authorstephen', 'datemay', 'urlstatusdead', 'namefoxnews', 'sample', 'dateseptember', 'trawick', 'accessdatedecember', 'accessdatemarch', 'accessdateaugust', 'factor', 'accessdateapril', 'staff', 'accessdateoctober', 'accessdateseptember', 'workbillboard', 'accessdatefebruary', 'company', 'conservatorship', 'accessdatejune', 'accessdatemay', 'gimme', 'workthe', 'aligncenter', 'guinness', 'judge', 'husband', 'accessdatejanuary', 'decade']\n",
      "['cancer', 'restraining', 'conservatorship', 'titleoops', 'titlespears', 'dateaugust', 'publisherbbc', 'workbillboard', 'authoreditors', 'datejanuary', 'authorassociated', 'singersspears', 'charity', 'lady', 'great', 'guide', 'observer', 'datejune', 'awardsrefcite', 'brand', 'workrolling', 'timerefcite', 'announces', 'european', 'behind', 'bgcolorcccccc', 'inspiration', 'positive', 'academy', 'wearing', 'listed', 'director', 'titlein', 'revival', 'publisherrolling', 'aligncenter', 'publishermtv', 'residency', 'yearseptember', 'rowspan', 'allmusic', 'datedecember', 'datenovember', 'dateseptember', 'foundation', 'gimme', 'blackout', 'actorsspears', 'multilisten', 'authorpeople', 'publisherpeoplecom', 'guinness', 'accessdatejune', 'albumblackout', 'datemay', 'decade', 'dateoctober', 'husband', 'judge', 'visitation', 'sample', 'father', 'authorstephen', 'company', 'staff', 'language', 'nbspmillion', 'influence', 'workthe', 'factor', 'accessdatemay', 'accessdatefebruary', 'accessdateseptember', 'accessdateoctober', 'teenage', 'accessdateapril', 'accessdateaugust', 'publishermtvcom', 'accessdatemarch', 'charge', 'coauthor', 'circus', 'trawick', 'postscriptnoneref', 'namefoxnews', 'formatogg', 'sound', 'datefebruary', 'mdash', 'accessdatejanuary', 'fatale', 'retrieved', 'femme', 'followed', 'ndash', 'psychiatric', 'spearsnbsp', 'tattoo', 'yearfebruary', 'yearnovember']\n",
      "['comparison', 'accessdateapril', 'middle', 'timerefcite', 'cyrus', 'datejune', 'dateaugust', 'accessdatejanuary', 'charge', 'denmark', 'score', 'yearfebruary', 'compared', 'actorsspears', 'announces', 'husband', 'actually', 'wont', 'residency', 'wall', 'retrieved', 'language', 'yearseptember', 'publishermtv', 'thing', 'wearing', 'formatogg', 'restraining', 'effect', 'behind', 'workthe', 'theyre', 'european', 'director', 'ndash', 'inspiration', 'womanizer', 'positive', 'lady', 'conservatorship', 'authorpeople', 'academy', 'cultural', 'sixth', 'albumcircus', 'listed', 'trawick', 'datemay', 'judge', 'datefebruary', 'yearnovember', 'accessdatefebruary', 'daily', 'revival', 'visitation', 'networksref', 'guinness', 'psychiatric', 'mdash', 'accessdatemarch', 'coauthor', 'great', 'dateoctober', 'sample', 'father', 'influence', 'accessdateaugust', 'publishermtvcom', 'accessdatejune', 'publisherpeoplecom', 'albumblackout', 'authorstephen', 'multilisten', 'namefoxnews', 'rowspan', 'factor', 'fatale', 'accessdateoctober', 'observer', 'femme', 'gimme', 'circus', 'dateseptember', 'datenovember', 'spearsnbsp', 'blackout', 'followed', 'aligncenter', 'nbspmillion', 'allmusic', 'foundation', 'accessdateseptember', 'datedecember', 'decade', 'sound', 'staff', 'postscriptnoneref', 'accessdatemay', 'teenage', 'company']\n",
      "['titleoops', 'sexualized', 'thing', 'european', 'told', 'daily', 'cancer', 'publisherbbc', 'dateaugust', 'bgcolorcccccc', 'observer', 'publisherrolling', 'conservatorship', 'wearing', 'charity', 'guide', 'lady', 'authorassociated', 'behind', 'restraining', 'inspiration', 'authoreditors', 'datejune', 'workrolling', 'titlespears', 'brand', 'awardsrefcite', 'singersspears', 'listed', 'workbillboard', 'publishermtvcom', 'revival', 'foundation', 'spearsnbsp', 'femme', 'judge', 'fatale', 'language', 'multilisten', 'charge', 'datemay', 'rowspan', 'positive', 'husband', 'decade', 'datefebruary', 'namefoxnews', 'postscriptnoneref', 'company', 'retrieved', 'trawick', 'sound', 'accessdatemarch', 'accessdateaugust', 'accessdateapril', 'accessdateoctober', 'accessdateseptember', 'factor', 'accessdatefebruary', 'accessdatemay', 'coauthor', 'visitation', 'yearnovember', 'authorstephen', 'yearfebruary', 'mdash', 'influence', 'teenage', 'nbspmillion', 'accessdatejune', 'guinness', 'formatogg', 'great', 'actorsspears', 'publisherpeoplecom', 'sample', 'gimme', 'timerefcite', 'authorpeople', 'accessdatejanuary', 'staff', 'dateseptember', 'ndash', 'allmusic', 'datenovember', 'titlein', 'datedecember', 'aligncenter', 'circus', 'psychiatric', 'publishermtv', 'yearseptember', 'residency', 'father', 'blackout', 'followed', 'tattoo', 'dateoctober', 'albumblackout', 'workthe']\n",
      "['datejanuary', 'wearing', 'daily', 'bgcolorcccccc', 'behind', 'titlecrossroads', 'inspiration', 'workrolling', 'guide', 'lady', 'director', 'charity', 'hospitalized', 'singersspears', 'sample', 'cancer', 'observer', 'positive', 'guinness', 'allmusic', 'father', 'foundation', 'language', 'accessdatejune', 'dateaugust', 'ndash', 'restraining', 'conservatorship', 'tattoo', 'charge', 'publisherpeoplecom', 'nbspmillion', 'authorpeople', 'dateoctober', 'albumblackout', 'announces', 'authorassociated', 'workthe', 'accessdatemay', 'accessdatefebruary', 'blackout', 'publishermtv', 'titlein', 'accessdateseptember', 'accessdateoctober', 'staff', 'accessdateapril', 'accessdateaugust', 'residency', 'accessdatemarch', 'yearseptember', 'datedecember', 'trawick', 'postscriptnoneref', 'datenovember', 'dateseptember', 'namefoxnews', 'gimme', 'authoreditors', 'followed', 'circus', 'retrieved', 'publisherbbc', 'datejune', 'influence', 'fatale', 'femme', 'datemay', 'publishermtvcom', 'revival', 'spearsnbsp', 'awardsrefcite', 'datefebruary', 'actorsspears', 'great', 'listed', 'multilisten', 'rowspan', 'timerefcite', 'psychiatric', 'coauthor', 'yearfebruary', 'decade', 'husband', 'aligncenter', 'sound', 'judge', 'visitation', 'yearnovember', 'brand', 'publisherrolling', 'company', 'factor', 'teenage', 'authorstephen', 'workbillboard', 'titleoops', 'accessdatejanuary', 'mdash', 'formatogg']\n"
     ]
    }
   ],
   "source": [
    "for idx, col in enumerate(p['word_topic_assignments']):\n",
    "    indices = np.argpartition(col, -100)[-100:]\n",
    "    print([p['dictionary'][d] for d in indices])"
   ]
  },
  {
   "cell_type": "code",
   "execution_count": null,
   "id": "b3ee3536",
   "metadata": {},
   "outputs": [],
   "source": []
  }
 ],
 "metadata": {
  "kernelspec": {
   "display_name": "Python 3",
   "language": "python",
   "name": "python3"
  },
  "language_info": {
   "codemirror_mode": {
    "name": "ipython",
    "version": 3
   },
   "file_extension": ".py",
   "mimetype": "text/x-python",
   "name": "python",
   "nbconvert_exporter": "python",
   "pygments_lexer": "ipython3",
   "version": "3.7.3"
  }
 },
 "nbformat": 4,
 "nbformat_minor": 5
}
