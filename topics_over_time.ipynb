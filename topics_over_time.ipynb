{
 "cells": [
  {
   "cell_type": "code",
   "execution_count": 26,
   "id": "86001ad8",
   "metadata": {},
   "outputs": [],
   "source": [
    "import os\n",
    "import pickle\n",
    "\n",
    "prefix = './article_pickles/'\n",
    "content = [pickle.load(open(prefix + fname, 'rb')) for fname in sorted(os.listdir(prefix))]\n",
    "content = [[w for w in doc if len(w) < 20] for doc in content]"
   ]
  },
  {
   "cell_type": "code",
   "execution_count": 27,
   "id": "d6501974",
   "metadata": {},
   "outputs": [],
   "source": [
    "import pandas as pd\n",
    "def to_seconds_from_epoch(fname):\n",
    "    return (pd.to_datetime(fname.split('_')[0]) - pd.Timestamp(\"1970-01-01\", tz='UTC')) // pd.Timedelta('1s')\n",
    "timestamps = [to_seconds_from_epoch(fname) for fname in sorted(os.listdir(prefix))]"
   ]
  },
  {
   "cell_type": "code",
   "execution_count": 36,
   "id": "a4432136",
   "metadata": {},
   "outputs": [],
   "source": [
    "import importlib\n",
    "import topics_over_time\n",
    "from topics_over_time.tot import TopicsOverTime"
   ]
  },
  {
   "cell_type": "code",
   "execution_count": 37,
   "id": "38361243",
   "metadata": {},
   "outputs": [],
   "source": [
    "tot = topics_over_time.tot.TopicsOverTime()\n",
    "vocab = set()\n",
    "for doc in content:\n",
    "    for word in doc:\n",
    "        if word not in vocab:\n",
    "            vocab.add(word)\n",
    "timestamp_range = timestamps[-1] - timestamps[0]\n",
    "timestamps_scaled = [(t - timestamps[0]) / timestamp_range for t in timestamps]\n",
    "vocab = list(vocab)"
   ]
  },
  {
   "cell_type": "code",
   "execution_count": 51,
   "id": "5d42705a",
   "metadata": {},
   "outputs": [],
   "source": [
    "import scipy\n",
    "import random\n",
    "import numpy as np\n",
    "\n",
    "par = {}\t\t\t\t\t\t# dictionary of all parameters\n",
    "par['max_iterations'] = 100\t\t# max number of iterations in gibbs sampling\n",
    "par['T'] = 20\t\t\t\t\t# number of topics\n",
    "par['D'] = len(content)\n",
    "par['V'] = len(vocab)\n",
    "par['N'] = [len(doc) for doc in content]\n",
    "par['alpha'] = [50.0/par['T'] for _ in range(par['T'])]\n",
    "par['beta'] = [0.1 for _ in range(par['V'])]\n",
    "par['beta_sum'] = sum(par['beta'])\n",
    "par['psi'] = [[1 for _ in range(2)] for _ in range(par['T'])]\n",
    "par['betafunc_psi'] = [scipy.special.beta( par['psi'][t][0], par['psi'][t][1] ) for t in range(par['T'])]\n",
    "par['word_id'] = {word: idx for idx, word in enumerate(vocab)}\n",
    "par['word_token'] = vocab\n",
    "par['z'] = [np.random.randint(0, par['T'], par['N'][d]) for d in range(par['D'])]\n",
    "par['t'] = [timestamps[d] * np.ones(par['N'][d]) for d in range(par['D'])]\n",
    "par['w'] = [[par['word_id'][content[d][i]] for i in range(par['N'][d])] for d in range(par['D'])]\n",
    "par['m'] = [np.zeros(par['T']) for d in range(par['D'])]\n",
    "par['n'] = [np.zeros(par['V']) for t in range(par['T'])]\n",
    "par['n_sum'] = np.zeros(par['T'])\n",
    "np.set_printoptions(threshold=np.inf)\n",
    "np.seterr(divide='ignore', invalid='ignore')\n",
    "tot.CalculateCounts(par)\n"
   ]
  },
  {
   "cell_type": "code",
   "execution_count": null,
   "id": "a6d534c8",
   "metadata": {},
   "outputs": [
    {
     "name": "stdout",
     "output_type": "stream",
     "text": [
      "Done with iteration 0 and document 0\n",
      "Done with iteration 0 and document 1000\n",
      "Done with iteration 0 and document 2000\n",
      "Done with iteration 0 and document 3000\n",
      "Done with iteration 0 and document 4000\n",
      "Done with iteration 0 and document 5000\n",
      "Done with iteration 0 and document 6000\n"
     ]
    }
   ],
   "source": [
    "theta, phi, psi = tot.TopicsOverTimeGibbsSampling(par)\n"
   ]
  },
  {
   "cell_type": "code",
   "execution_count": null,
   "id": "57074b26",
   "metadata": {},
   "outputs": [],
   "source": [
    "import pickle\n",
    "pickle.dump((theta, phi, psi), open('theta_phi_psi_run_1.pkl', 'wb'))"
   ]
  },
  {
   "cell_type": "code",
   "execution_count": 53,
   "id": "9145518a",
   "metadata": {},
   "outputs": [
    {
     "data": {
      "text/plain": [
       "array([3., 3., 3., 3., 3.])"
      ]
     },
     "execution_count": 53,
     "metadata": {},
     "output_type": "execute_result"
    }
   ],
   "source": [
    "3 * np.ones(5)"
   ]
  },
  {
   "cell_type": "code",
   "execution_count": 54,
   "id": "9d7fc28b",
   "metadata": {},
   "outputs": [],
   "source": [
    "a = [timestamps[d] * np.ones(par['N'][d]) for d in range(par['D'])]\n",
    "b = [[timestamps[d] for _ in range(par['N'][d])] for d in range(par['D'])]"
   ]
  },
  {
   "cell_type": "code",
   "execution_count": 55,
   "id": "268ead92",
   "metadata": {},
   "outputs": [
    {
     "data": {
      "text/plain": [
       "25860"
      ]
     },
     "execution_count": 55,
     "metadata": {},
     "output_type": "execute_result"
    }
   ],
   "source": [
    "len(a)"
   ]
  },
  {
   "cell_type": "code",
   "execution_count": 66,
   "id": "d57dc7ec",
   "metadata": {},
   "outputs": [
    {
     "data": {
      "text/plain": [
       "True"
      ]
     },
     "execution_count": 66,
     "metadata": {},
     "output_type": "execute_result"
    }
   ],
   "source": [
    "len(a[0])== len(b[0])"
   ]
  },
  {
   "cell_type": "code",
   "execution_count": 63,
   "id": "acfba3d1",
   "metadata": {},
   "outputs": [
    {
     "name": "stderr",
     "output_type": "stream",
     "text": [
      "/usr/local/lib/python3.7/site-packages/ipykernel_launcher.py:1: VisibleDeprecationWarning: Creating an ndarray from ragged nested sequences (which is a list-or-tuple of lists-or-tuples-or ndarrays with different lengths or shapes) is deprecated. If you meant to do this, you must specify 'dtype=object' when creating the ndarray\n",
      "  \"\"\"Entry point for launching an IPython kernel.\n",
      "/usr/local/lib/python3.7/site-packages/ipykernel_launcher.py:1: DeprecationWarning: elementwise comparison failed; this will raise an error in the future.\n",
      "  \"\"\"Entry point for launching an IPython kernel.\n"
     ]
    },
    {
     "data": {
      "text/plain": [
       "False"
      ]
     },
     "execution_count": 63,
     "metadata": {},
     "output_type": "execute_result"
    }
   ],
   "source": []
  },
  {
   "cell_type": "code",
   "execution_count": 68,
   "id": "e5d423e6",
   "metadata": {},
   "outputs": [
    {
     "data": {
      "text/plain": [
       "array([[2.5, 4.5],\n",
       "       [6.5, 8.5]])"
      ]
     },
     "execution_count": 68,
     "metadata": {},
     "output_type": "execute_result"
    }
   ],
   "source": [
    "a = np.array([[1, 2], [3, 4]])\n",
    "b = np.array([[1.5, 2.5], [3.5, 4.5]])\n",
    "\n",
    "np.sum([a, b], axis=0)"
   ]
  },
  {
   "cell_type": "code",
   "execution_count": 116,
   "id": "2c008413",
   "metadata": {},
   "outputs": [
    {
     "data": {
      "image/png": "[encoded data removed]",
      "text/plain": [
       "<Figure size 432x288 with 1 Axes>"
      ]
     },
     "metadata": {
      "needs_background": "light"
     },
     "output_type": "display_data"
    }
   ],
   "source": [
    "import pickle\n",
    "import matplotlib.pyplot as plt\n",
    "import math\n",
    "p = pickle.load(open('tot_run_wiki/tot_dump_28.pkl', 'rb'))\n",
    "psi = p['psi']\n",
    "\n",
    "xs = np.linspace(0, 1, num=1000)\n",
    "fig, ax = plt.subplots()\n",
    "\n",
    "for i in range(len(psi)):\n",
    "    ys = [math.pow(1-x, psi[i][0]-1) * math.pow(x, psi[i][1]-1) / scipy.special.beta(psi[i][0],psi[i][1]) for x in xs]\n",
    "    ax.plot(xs, ys, label='Topic ' + str(i+1))\n",
    "plt.show()"
   ]
  },
  {
   "cell_type": "code",
   "execution_count": 117,
   "id": "a79ec370",
   "metadata": {},
   "outputs": [
    {
     "name": "stdout",
     "output_type": "stream",
     "text": [
      "['staff', 'sample', 'accessdateoctober', 'circus', 'mdash', 'datenovember', 'namefoxnews', 'femme', 'publisherpeoplecom', 'dateoctober', 'fatale', 'blackout', 'accessdateaugust', 'influence', 'accessdatemay', 'dateseptember', 'aligncenter', 'rowspan', 'multilisten', 'accessdatejune']\n",
      "['teenage', 'mdash', 'datenovember', 'multilisten', 'accessdateaugust', 'namefoxnews', 'dateseptember', 'circus', 'influence', 'publisherpeoplecom', 'rowspan', 'sample', 'blackout', 'fatale', 'femme', 'accessdatemay', 'dateoctober', 'aligncenter', 'accessdateoctober', 'accessdatejune']\n",
      "['staff', 'teenage', 'influence', 'accessdateoctober', 'accessdateaugust', 'accessdatemay', 'accessdatejune', 'datenovember', 'dateseptember', 'multilisten', 'namefoxnews', 'blackout', 'aligncenter', 'circus', 'fatale', 'publisherpeoplecom', 'sample', 'rowspan', 'dateoctober', 'femme']\n",
      "['mdash', 'staff', 'influence', 'accessdateoctober', 'aligncenter', 'publisherpeoplecom', 'namefoxnews', 'fatale', 'dateseptember', 'datenovember', 'sample', 'circus', 'accessdatejune', 'accessdatemay', 'multilisten', 'blackout', 'accessdateaugust', 'rowspan', 'dateoctober', 'femme']\n",
      "['staff', 'mdash', 'influence', 'accessdateoctober', 'accessdateaugust', 'sample', 'accessdatemay', 'dateoctober', 'aligncenter', 'accessdatejune', 'blackout', 'dateseptember', 'datenovember', 'multilisten', 'publisherpeoplecom', 'namefoxnews', 'rowspan', 'femme', 'circus', 'fatale']\n",
      "['accessdateseptember', 'residency', 'publisherpeoplecom', 'nbspmillion', 'namefoxnews', 'dateseptember', 'dateoctober', 'sample', 'femme', 'fatale', 'multilisten', 'accessdateaugust', 'datenovember', 'mdash', 'blackout', 'circus', 'accessdatejune', 'accessdatemay', 'accessdateoctober', 'aligncenter']\n",
      "['teenage', 'staff', 'accessdateoctober', 'influence', 'sample', 'publisherpeoplecom', 'blackout', 'accessdatejune', 'dateoctober', 'accessdatemay', 'datenovember', 'multilisten', 'fatale', 'dateseptember', 'femme', 'rowspan', 'namefoxnews', 'accessdateaugust', 'aligncenter', 'circus']\n",
      "['gimme', 'influence', 'accessdateoctober', 'teenage', 'accessdateaugust', 'accessdatemay', 'dateoctober', 'namefoxnews', 'femme', 'fatale', 'publisherpeoplecom', 'blackout', 'multilisten', 'aligncenter', 'rowspan', 'circus', 'sample', 'datenovember', 'dateseptember', 'accessdatejune']\n",
      "['mdash', 'influence', 'staff', 'sample', 'dateseptember', 'datenovember', 'multilisten', 'dateoctober', 'namefoxnews', 'accessdateoctober', 'accessdatejune', 'circus', 'accessdateaugust', 'aligncenter', 'publisherpeoplecom', 'accessdatemay', 'fatale', 'femme', 'rowspan', 'blackout']\n",
      "['staff', 'influence', 'accessdateaugust', 'dateoctober', 'rowspan', 'publisherpeoplecom', 'accessdateoctober', 'circus', 'aligncenter', 'accessdatejune', 'mdash', 'accessdatemay', 'blackout', 'sample', 'dateseptember', 'datenovember', 'fatale', 'femme', 'namefoxnews', 'multilisten']\n"
     ]
    }
   ],
   "source": [
    "for idx, col in enumerate(p['word_topic_assignments']):\n",
    "    indices = np.argpartition(col, -20)[-20:]\n",
    "    print([p['dictionary'][d] for d in indices])"
   ]
  },
  {
   "cell_type": "code",
   "execution_count": null,
   "id": "b3ee3536",
   "metadata": {},
   "outputs": [],
   "source": []
  }
 ],
 "metadata": {
  "kernelspec": {
   "display_name": "Python 3",
   "language": "python",
   "name": "python3"
  },
  "language_info": {
   "codemirror_mode": {
    "name": "ipython",
    "version": 3
   },
   "file_extension": ".py",
   "mimetype": "text/x-python",
   "name": "python",
   "nbconvert_exporter": "python",
   "pygments_lexer": "ipython3",
   "version": "3.7.3"
  }
 },
 "nbformat": 4,
 "nbformat_minor": 5
}
