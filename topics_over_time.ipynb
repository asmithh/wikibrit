{
 "cells": [
  {
   "cell_type": "code",
   "execution_count": 26,
   "id": "ef022258",
   "metadata": {},
   "outputs": [],
   "source": [
    "import os\n",
    "import pickle\n",
    "\n",
    "prefix = './article_pickles/'\n",
    "content = [pickle.load(open(prefix + fname, 'rb')) for fname in sorted(os.listdir(prefix))]\n",
    "content = [[w for w in doc if len(w) < 20] for doc in content]"
   ]
  },
  {
   "cell_type": "code",
   "execution_count": 27,
   "id": "4646e689",
   "metadata": {},
   "outputs": [],
   "source": [
    "import pandas as pd\n",
    "def to_seconds_from_epoch(fname):\n",
    "    return (pd.to_datetime(fname.split('_')[0]) - pd.Timestamp(\"1970-01-01\", tz='UTC')) // pd.Timedelta('1s')\n",
    "timestamps = [to_seconds_from_epoch(fname) for fname in sorted(os.listdir(prefix))]"
   ]
  },
  {
   "cell_type": "code",
   "execution_count": 36,
   "id": "3bb1fa01",
   "metadata": {},
   "outputs": [],
   "source": [
    "import importlib\n",
    "import topics_over_time\n",
    "from topics_over_time.tot import TopicsOverTime"
   ]
  },
  {
   "cell_type": "code",
   "execution_count": 37,
   "id": "8daadc17",
   "metadata": {},
   "outputs": [],
   "source": [
    "tot = topics_over_time.tot.TopicsOverTime()\n",
    "vocab = set()\n",
    "for doc in content:\n",
    "    for word in doc:\n",
    "        if word not in vocab:\n",
    "            vocab.add(word)\n",
    "timestamp_range = timestamps[-1] - timestamps[0]\n",
    "timestamps_scaled = [(t - timestamps[0]) / timestamp_range for t in timestamps]\n",
    "vocab = list(vocab)"
   ]
  },
  {
   "cell_type": "code",
   "execution_count": 51,
   "id": "b27b3d74",
   "metadata": {},
   "outputs": [],
   "source": [
    "import scipy\n",
    "import random\n",
    "import numpy as np\n",
    "\n",
    "par = {}\t\t\t\t\t\t# dictionary of all parameters\n",
    "par['max_iterations'] = 100\t\t# max number of iterations in gibbs sampling\n",
    "par['T'] = 20\t\t\t\t\t# number of topics\n",
    "par['D'] = len(content)\n",
    "par['V'] = len(vocab)\n",
    "par['N'] = [len(doc) for doc in content]\n",
    "par['alpha'] = [50.0/par['T'] for _ in range(par['T'])]\n",
    "par['beta'] = [0.1 for _ in range(par['V'])]\n",
    "par['beta_sum'] = sum(par['beta'])\n",
    "par['psi'] = [[1 for _ in range(2)] for _ in range(par['T'])]\n",
    "par['betafunc_psi'] = [scipy.special.beta( par['psi'][t][0], par['psi'][t][1] ) for t in range(par['T'])]\n",
    "par['word_id'] = {word: idx for idx, word in enumerate(vocab)}\n",
    "par['word_token'] = vocab\n",
    "par['z'] = [np.random.randint(0, par['T'], par['N'][d]) for d in range(par['D'])]\n",
    "par['t'] = [timestamps[d] * np.ones(par['N'][d]) for d in range(par['D'])]\n",
    "par['w'] = [[par['word_id'][content[d][i]] for i in range(par['N'][d])] for d in range(par['D'])]\n",
    "par['m'] = [np.zeros(par['T']) for d in range(par['D'])]\n",
    "par['n'] = [np.zeros(par['V']) for t in range(par['T'])]\n",
    "par['n_sum'] = np.zeros(par['T'])\n",
    "np.set_printoptions(threshold=np.inf)\n",
    "np.seterr(divide='ignore', invalid='ignore')\n",
    "tot.CalculateCounts(par)\n"
   ]
  },
  {
   "cell_type": "code",
   "execution_count": null,
   "id": "df207c81",
   "metadata": {},
   "outputs": [
    {
     "name": "stdout",
     "output_type": "stream",
     "text": [
      "Done with iteration 0 and document 0\n",
      "Done with iteration 0 and document 1000\n",
      "Done with iteration 0 and document 2000\n",
      "Done with iteration 0 and document 3000\n"
     ]
    }
   ],
   "source": [
    "theta, phi, psi = tot.TopicsOverTimeGibbsSampling(par)\n"
   ]
  },
  {
   "cell_type": "code",
   "execution_count": null,
   "id": "fe394dcc",
   "metadata": {},
   "outputs": [],
   "source": [
    "import pickle\n",
    "pickle.dump((theta, phi, psi), open('theta_phi_psi_run_1.pkl', 'wb'))"
   ]
  }
 ],
 "metadata": {
  "kernelspec": {
   "display_name": "Python 3",
   "language": "python",
   "name": "python3"
  },
  "language_info": {
   "codemirror_mode": {
    "name": "ipython",
    "version": 3
   },
   "file_extension": ".py",
   "mimetype": "text/x-python",
   "name": "python",
   "nbconvert_exporter": "python",
   "pygments_lexer": "ipython3",
   "version": "3.7.3"
  }
 },
 "nbformat": 4,
 "nbformat_minor": 5
}
